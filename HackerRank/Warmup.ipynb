{
 "cells": [
  {
   "cell_type": "markdown",
   "metadata": {
    "heading_collapsed": true
   },
   "source": [
    "# 1. [Solve Me First](https://www.hackerrank.com/challenges/solve-me-first/problem)"
   ]
  },
  {
   "cell_type": "markdown",
   "metadata": {
    "hidden": true
   },
   "source": [
    "Complete the function solveMeFirst to compute the sum of two integers.\n",
    "\n",
    "**Function prototype:**\n",
    "\n",
    "int solveMeFirst(int x, int y);\n",
    "\n",
    "where,\n",
    "* x is the first integer input.\n",
    "* y is the second integer input\n",
    "\n",
    "**Return values**\n",
    "* sum of the above two integers\n",
    "\n",
    "**Sample Input**\n",
    ">`x = 2`\n",
    "\n",
    ">`y = 3`\n",
    "\n",
    "**Sample Output**\n",
    ">`5`\n",
    "\n",
    "**Explanation**\n",
    "\n",
    "The sum of the two integers $x$ and $y$ is computed as: $2 + 3 = 5$."
   ]
  },
  {
   "cell_type": "code",
   "execution_count": null,
   "metadata": {
    "hidden": true
   },
   "outputs": [],
   "source": [
    "def solveMeFirst(a,b):\n",
    "   # Hint: Type return a+b below \n",
    "  return a + b\n",
    "\n",
    "num1 = int(input())\n",
    "num2 = int(input())\n",
    "res = solveMeFirst(num1,num2)\n",
    "print(res)"
   ]
  },
  {
   "cell_type": "markdown",
   "metadata": {
    "heading_collapsed": true
   },
   "source": [
    "# 2. [Simple Array Sum](https://www.hackerrank.com/challenges/simple-array-sum/problem)"
   ]
  },
  {
   "cell_type": "markdown",
   "metadata": {
    "hidden": true
   },
   "source": [
    "Given an array of $N$ integers, can you find the sum of its elements?\n",
    "\n",
    "**Input Format**\n",
    "\n",
    "The first line contains an integer, $N$, denoting the size of the array.\n",
    "\n",
    "The second line contains $N$ space-separated integers representing the array's elements.\n",
    "\n",
    "**Output Format**\n",
    "\n",
    "Print the sum of the array's elements as a single integer.\n",
    "\n",
    "**Sample Input**\n",
    "\n",
    "> `6`\n",
    "\n",
    "> `1 2 3 4 10 11`\n",
    "\n",
    "**Sample Output**\n",
    "\n",
    "> `31`\n",
    "\n",
    "**Explanation\n",
    "\n",
    "We print the sum of the array's elements, which is: $1 + 2 + 3 + 4 + 10 + 11 = 31$."
   ]
  },
  {
   "cell_type": "code",
   "execution_count": null,
   "metadata": {
    "hidden": true
   },
   "outputs": [],
   "source": [
    "#!/bin/python3\n",
    "\n",
    "import sys\n",
    "\n",
    "\n",
    "n = int(input().strip())\n",
    "arr = [int(arr_temp) for arr_temp in input().strip().split(' ')]\n",
    "print(sum(arr))"
   ]
  },
  {
   "cell_type": "markdown",
   "metadata": {
    "heading_collapsed": true
   },
   "source": [
    "# 3. [Compare the Triplets](https://www.hackerrank.com/challenges/compare-the-triplets/problem)"
   ]
  },
  {
   "cell_type": "markdown",
   "metadata": {
    "hidden": true
   },
   "source": [
    "Alice and Bob each created on problem for HackerRank. A reviewer rates the two challenges, awarding points on a scale from $1$ to $100$ for three categories: *problem clarity*, *originality*, and *difficulty*.\n",
    "\n",
    "We define the rating for Alice's challenge to be the triplet $A = (a_0, ~a_1, ~a_2)$, and the rating for Bob's challenge to be the triplet $B = (b_0, ~b_1, ~b_2)$.\n",
    "\n",
    "Your task is to find their *comparison points* by comparing $a_0$ with $b_0$, $a_1$ with $b_1$, and $a_2$ with $b_2$.\n",
    "* If $a_i > b_i$, then Alice is awarded $1$ point.\n",
    "* If $a_i < b_i$, then Bob is awarded $1$ point.\n",
    "* If $a_i = b_i$, then neither person receives a point.\n",
    "\n",
    "Comparison points is the total points a person earned.\n",
    "\n",
    "Given $A$ and $B$, can you compare the two challenges and print their respective comparison points?\n",
    "\n",
    "**Input Format**\n",
    "\n",
    "The first line contains $3$ space-separated integers, $a_0$, $a_1$, and $a_2$, describing the respective values in triplet $A$.\n",
    "\n",
    "The second line contains $3$ space-separated integers, $b_0$, $b_1$, and $b_2$, describing the respective values in triplet $B$.\n",
    "\n",
    "**Constraints**\n",
    "* $1 \\le a_i \\le 100$\n",
    "* $1 \\le b_i \\le 100$\n",
    "\n",
    "**Output Format**\n",
    "\n",
    "Print two space-separated integers denoting the respective comparison points earned by Alice and Bob.\n",
    "\n",
    "**Sample Input**\n",
    "\n",
    "> `5 6 7`\n",
    "\n",
    "> `3 6 10`\n",
    "\n",
    "**Sample Output**\n",
    "\n",
    "> `1 1`\n",
    "\n",
    "**Explanation**\n",
    "\n",
    "In this example:\n",
    "* $A = (a_0, ~a_1, ~a_2) = (5, ~6, ~7)$\n",
    "* $B = (b_0, ~b_1, ~b_2) = (3, ~6, ~10)$\n",
    "\n",
    "Now, let's compare each individual score:\n",
    "* $a_0 > b_0$, so Alice receives $1$ point.\n",
    "* $a_1 = b_1$, so nobody receives a point.\n",
    "* $a_2 < b_2$, so Bob receive $1$ point.\n",
    "\n",
    "Alice's comparison score is $1$, and Bob's comparison score is $1$. Thus, we print `1 1` (Alice's comparison score followed by Bob's comparison score) on a single line."
   ]
  },
  {
   "cell_type": "code",
   "execution_count": null,
   "metadata": {
    "hidden": true
   },
   "outputs": [],
   "source": [
    "#!/bin/python3\n",
    "\n",
    "import sys\n",
    "\n",
    "def solve(a0, a1, a2, b0, b1, b2):\n",
    "    # Complete this function\n",
    "    A, B = 0, 0\n",
    "    if a0 < b0:\n",
    "        B += 1\n",
    "    elif a0 > b0:\n",
    "        A += 1\n",
    "    if a1 < b1:\n",
    "        B += 1\n",
    "    elif a1 > b1:\n",
    "        A += 1\n",
    "    if a2 < b2:\n",
    "        B += 1\n",
    "    elif a2 > b2:\n",
    "        A += 1\n",
    "    return A, B\n",
    "\n",
    "a0, a1, a2 = input().strip().split(' ')\n",
    "a0, a1, a2 = [int(a0), int(a1), int(a2)]\n",
    "b0, b1, b2 = input().strip().split(' ')\n",
    "b0, b1, b2 = [int(b0), int(b1), int(b2)]\n",
    "result = solve(a0, a1, a2, b0, b1, b2)\n",
    "print (\" \".join(map(str, result)))"
   ]
  },
  {
   "cell_type": "markdown",
   "metadata": {
    "heading_collapsed": true
   },
   "source": [
    "# 4. [A Very Big Sum](https://www.hackerrank.com/challenges/a-very-big-sum/problem)"
   ]
  },
  {
   "cell_type": "markdown",
   "metadata": {
    "hidden": true
   },
   "source": [
    "You are given an array of integers of size $N$. You need to print the sum of the elements in the array, keeping in mind that some of those integers may be quite large.\n",
    "\n",
    "**Input Format**\n",
    "\n",
    "The first line of the input consists of an integer $N$. The next line contains $N$ space-separated integers contained in the array.\n",
    "\n",
    "**Output Format**\n",
    "\n",
    "Print a single value equal to the sum of the elements in the array.\n",
    "\n",
    "**Constraints**\n",
    "\n",
    "* $1 \\le N \\le 10$\n",
    "* $0 \\le A[i] \\le 10^{10}$\n",
    "\n",
    "**Sample Output**\n",
    "> `5`\n",
    "\n",
    "> `1000000001 1000000002 1000000003 1000000004 1000000005`\n",
    "\n",
    "**Output**\n",
    "> `5000000015`\n",
    "\n",
    "**Note:**\n",
    "\n",
    "The range of the 32-bit integer is $(-2^{31}) ~to ~(2^{31} - 1) ~or ~[-2147483648, ~2147483647]$.\n",
    "\n",
    "When we add several integer values, the resulting sum might exceed the above range. you might need to use long long int in C/C++ or long data type in Java to store such sums."
   ]
  },
  {
   "cell_type": "code",
   "execution_count": null,
   "metadata": {
    "hidden": true
   },
   "outputs": [],
   "source": [
    "#!/bin/python3\n",
    "\n",
    "import sys\n",
    "\n",
    "def aVeryBigSum(n, ar):\n",
    "    # Complete this function\n",
    "    return sum(ar)\n",
    "\n",
    "n = int(input().strip())\n",
    "ar = list(map(int, input().strip().split(' ')))\n",
    "result = aVeryBigSum(n, ar)\n",
    "print(result)"
   ]
  },
  {
   "cell_type": "markdown",
   "metadata": {
    "heading_collapsed": true
   },
   "source": [
    "# 5. [Diagonal Difference](https://www.hackerrank.com/challenges/diagonal-difference/problem)"
   ]
  },
  {
   "cell_type": "markdown",
   "metadata": {
    "hidden": true
   },
   "source": [
    "Given a square matrix of size $N \\times N$, calculate the absolute difference between the sums of its diagonals.\n",
    "\n",
    "**Input Format**\n",
    "\n",
    "The first line contains a single integer, $N$. The next $N$ lines denote the matrix's rows, with each line containing $N$ space-separated integers describing the columns.\n",
    "\n",
    "**Constraints**\n",
    "* $-100 \\le Elements ~in ~the ~matrix \\le 100$\n",
    "\n",
    "**Output Format**\n",
    "\n",
    "Print the absolute difference between the two sums of the matrix's diagonals as a single integer.\n",
    "\n",
    "**Sample Input**\n",
    "> `3`\n",
    "\n",
    "> `11 2 4`\n",
    "\n",
    "> `4 5 6`\n",
    "\n",
    "> `10 8 -12`\n",
    "\n",
    "**Sample Output**\n",
    "> `15`\n",
    "\n",
    "**Explanation**\n",
    "\n",
    "The primary diagonal is:\n",
    "> `11`\n",
    ">>`5`\n",
    ">>> `-12`\n",
    "\n",
    "Sum across the primary diagonal: $11 + 5 - 12 = 4$\n",
    "\n",
    "The secondary diagonal is:\n",
    ">>> `4`\n",
    "\n",
    ">> `5`\n",
    "\n",
    "> `10`\n",
    "\n",
    "Sum across the secondary diagonal: $4 + 5 + 10 = 9$\n",
    "\n",
    "Difference: $\\left|4 - 19\\right| = 15$\n",
    "\n",
    "**Note:** $\\left|x\\right|$ is [absolute value](https://www.mathsisfun.com/numbers/absolute-value.html) function"
   ]
  },
  {
   "cell_type": "code",
   "execution_count": null,
   "metadata": {
    "hidden": true
   },
   "outputs": [],
   "source": [
    "#!/bin/python3\n",
    "\n",
    "import sys\n",
    "\n",
    "\n",
    "n = int(input().strip())\n",
    "a = []\n",
    "for a_i in range(n):\n",
    "    a_t = [int(a_temp) for a_temp in input().strip().split(' ')]\n",
    "    a.append(a_t)\n",
    "\n",
    "print(abs(sum([a[i][i] for i in range(n)]) - sum([a[i][-i - 1] for i in range(n)])))"
   ]
  },
  {
   "cell_type": "markdown",
   "metadata": {
    "heading_collapsed": true
   },
   "source": [
    "# 6. [Plus Minus](https://www.hackerrank.com/challenges/plus-minus/problem)"
   ]
  },
  {
   "cell_type": "markdown",
   "metadata": {
    "hidden": true
   },
   "source": [
    "Given an array of integers, calculate which fraction of its elements are *positive*, which fraction of its elements are *negative*, and which fraction of its elements are *zeroes*, respectively. Print the decimal value of each fraction on a new line.\n",
    "\n",
    "**Note:** This challenge introduces precision problems. The test cases are scaled to six decimal places, though answers with absolute error of up to $10^{-4}$ are acceptable.\n",
    "\n",
    "**Input Format**\n",
    "\n",
    "The first line contains an integer, $N$, denoting the size of the array.\n",
    "\n",
    "The second line contains $N$ space-separated integers describing an array of numbers $(a_0, ~a_1, ~a_2, ~\\ldots, ~a_{n-1}$.\n",
    "\n",
    "**Output Format**\n",
    "\n",
    "You must print the following $3$ lines:\n",
    "1. A decimal representing of the fraction of *positive* numbers in the array compared to its size.\n",
    "2. A decimal representing of the fraction of *negative* numbers in the array compared to its size.\n",
    "3. A decimal representing of the fraction of *zeroes* in the array compared to its size.\n",
    "\n",
    "**Sample Input**\n",
    "> `6`\n",
    "\n",
    "> `-4 3 -9 0 4 1`\n",
    "\n",
    "**Sample Output**\n",
    "> `0.500000`\n",
    "\n",
    "> `0.333333`\n",
    "\n",
    "> `0.166667`\n",
    "\n",
    "**Explanation**\n",
    "\n",
    "There are $3$ positive numbers, $2$ negative numbers, and $1$ zero in the array.\n",
    "\n",
    "The respective fractions of positive numbers, negative numbers and zeroes are $\\frac{3}{6} = 0.500000$, $\\frac{2}{6} = 0.333333$ and $\\frac{1}{6} = 0.166667$, respectively."
   ]
  },
  {
   "cell_type": "code",
   "execution_count": null,
   "metadata": {
    "hidden": true
   },
   "outputs": [],
   "source": [
    "#!/bin/python3\n",
    "\n",
    "import sys\n",
    "\n",
    "\n",
    "n = int(input().strip())\n",
    "arr = [int(arr_temp) for arr_temp in input().strip().split(' ')]\n",
    "\n",
    "print(len([i for i in arr if i > 0]) / n) # positive\n",
    "print(len([i for i in arr if i < 0]) / n) # negative\n",
    "print(len([i for i in arr if i == 0]) / n) # zero"
   ]
  },
  {
   "cell_type": "markdown",
   "metadata": {
    "heading_collapsed": true
   },
   "source": [
    "# 7. [Staircase](https://www.hackerrank.com/challenges/staircase/problem)"
   ]
  },
  {
   "cell_type": "markdown",
   "metadata": {
    "hidden": true
   },
   "source": [
    "Consider a staircase of size $n = 4$:\n",
    "\n",
    "       #\n",
    "      ##\n",
    "     ###\n",
    "    ####\n",
    "\n",
    "Observe that its base and height are both equal to $n$, and the image is drawn using `#` symbols and spaces. *The last line is not preceded by any spaces*.\n",
    "\n",
    "Write a program that prints a staircase of size $n$.\n",
    "\n",
    "**Input Format**\n",
    "\n",
    "A single integer, $n$, denoting the size of the staircase.\n",
    "\n",
    "**Output Format**\n",
    "\n",
    "Print a staircase of size $n$ using `#` symbols and spaces.\n",
    "\n",
    "**Note:** the last line must have $0$ spaces in it.\n",
    "\n",
    "**Sample Input**\n",
    "> `6`\n",
    "\n",
    "**Sample Output**\n",
    "\n",
    "         #\n",
    "        ##\n",
    "       ###\n",
    "      ####\n",
    "     #####\n",
    "    ######\n",
    "\n",
    "**Explanation**\n",
    "\n",
    "The staircase is right-aligned, composed of `#` symbols and spaces, and has a height and width $n = 6$."
   ]
  },
  {
   "cell_type": "code",
   "execution_count": null,
   "metadata": {
    "hidden": true
   },
   "outputs": [],
   "source": [
    "#!/bin/python3\n",
    "\n",
    "import sys\n",
    "\n",
    "\n",
    "n = int(input().strip())\n",
    "\n",
    "for i in range(1, n + 1):\n",
    "    print((n - i) * ' ' + i * '#')"
   ]
  },
  {
   "cell_type": "markdown",
   "metadata": {
    "heading_collapsed": true
   },
   "source": [
    "# 8. [Mini-Max Sum](https://www.hackerrank.com/challenges/mini-max-sum/problem)"
   ]
  },
  {
   "cell_type": "markdown",
   "metadata": {
    "hidden": true
   },
   "source": [
    "Given five positive integers, find the minimum and maximum values that can be calculated by summing exactly four of the five integers. Then print the respective minimum and maximum values as a single line of two space-separated long integers.\n",
    "\n",
    "**Input Format**\n",
    "\n",
    "A single line of five space-separated integers.\n",
    "\n",
    "**Constraints**\n",
    "* Each integer is in the inclusive range $[1, ~10^9]$.\n",
    "\n",
    "**Output Format**\n",
    "\n",
    "Print two space-separated long integers denoting the respective minimum and maximum values that can be calculated by summing exactly *four* of the five integers. (The output can be greater than 32 bit integer.)\n",
    "\n",
    "**Sample Input**\n",
    "> `1 2 3 4 5`\n",
    "\n",
    "**Sample Output**\n",
    "> `10 14`\n",
    "\n",
    "**Explanation**\n",
    "\n",
    "Our initial numbers are $1$, $2$, $3$, $4$, and $5$. We can calculate the following sums using four of the five integers:\n",
    "1. If we sum everything except $1$, our sum is $2 + 3 + 4 + 5 = 14$.\n",
    "2. If we sum everything except $2$, our sum is $1 + 3 + 4 + 5 = 13$.\n",
    "3. If we sum everything except $3$, our sum is $1 + 2 + 4 + 5 = 12$.\n",
    "4. If we sum everything except $4$, our sum is $1 + 2 + 3 + 5 = 11$.\n",
    "5. If we sum everything except $5$, our sum is $1 + 2 + 3 + 4 = 10$.\n",
    "\n",
    "As you can see, the minimal sum is $1 + 2+ 3 + 4 = 10$ and the maximal sum is $2 + 3 + 4 + 5 = 14$. Thus, we print these minimal and maximal sums as two space-separated integers on a new line.\n",
    "\n",
    "**Hints:** Beware of integer overflow! Use 64-bit Integer."
   ]
  },
  {
   "cell_type": "code",
   "execution_count": null,
   "metadata": {
    "hidden": true
   },
   "outputs": [],
   "source": [
    "#!/bin/python3\n",
    "\n",
    "import sys\n",
    "\n",
    "arr = list(map(int, input().strip().split(' ')))\n",
    "\n",
    "print(sum(sorted(arr)[:4]), sum(sorted(arr, reverse = True)[:4]))"
   ]
  },
  {
   "cell_type": "markdown",
   "metadata": {
    "heading_collapsed": true
   },
   "source": [
    "# 9. [Birthday Cake Candles](https://www.hackerrank.com/challenges/birthday-cake-candles/problem)"
   ]
  },
  {
   "cell_type": "markdown",
   "metadata": {
    "hidden": true
   },
   "source": [
    "You are in-charge of the cake for your niece's birthday and have decided the cake will have one candle for each year of her total age. When she blows out the candles, she'll only be able to blow out the tallest ones.\n",
    "\n",
    "For example, if your niece is turning $4$ years old, and the cake will have $4$ candles of height $3$, $2$, $1$, $3$, she will be able to blow out $2$ candles successfully, since the tallest candle is of height $3$ and there are $2$ such candles.\n",
    "\n",
    "Complete the function `birthdayCakeCandles` that takes your niece's age and an integer array containing height of each candle as input, and return the number of candles she can successfully blow out.\n",
    "\n",
    "**Input Format**\n",
    "\n",
    "The first line contains a single integer, $n$, denoting the number of candles on the cake.\n",
    "\n",
    "The second line contains $n$ space-separated integers, where each integer $i$ describes the height of candle $i$.\n",
    "\n",
    "**Constraints**\n",
    "* $1 \\le n \\le 10^5$\n",
    "* $1 \\le height_i \\le 10^7$\n",
    "\n",
    "**Output Format**\n",
    "\n",
    "Print the number of candles that can be blown out on a new line.\n",
    "\n",
    "**Sample Input 0**\n",
    "> `4`\n",
    "\n",
    "> `3 2 1 3`\n",
    "\n",
    "**Sample Output 0**\n",
    "> `2`\n",
    "\n",
    "**Explanation 0**\n",
    "\n",
    "We have one candle of height $1$, one candle of height $2$, and two candles of height $3$. Your niece only blows out the tallest candles, meaning the candles where $height = 3$. Because there are $2$ such candles, we print $2$ on a new line."
   ]
  },
  {
   "cell_type": "code",
   "execution_count": null,
   "metadata": {
    "hidden": true
   },
   "outputs": [],
   "source": [
    "#!/bin/python3\n",
    "\n",
    "import sys\n",
    "\n",
    "def birthdayCakeCandles(n, ar):\n",
    "    # Complete this function\n",
    "    return ar.count(max(ar))\n",
    "\n",
    "n = int(input().strip())\n",
    "ar = list(map(int, input().strip().split(' ')))\n",
    "result = birthdayCakeCandles(n, ar)\n",
    "print(result)"
   ]
  },
  {
   "cell_type": "markdown",
   "metadata": {
    "heading_collapsed": true
   },
   "source": [
    "# 10. [Time Conversion](https://www.hackerrank.com/challenges/time-conversion/problem)"
   ]
  },
  {
   "cell_type": "markdown",
   "metadata": {
    "hidden": true
   },
   "source": [
    "Given a time in [$12$-hour AM/PM format](https://en.wikipedia.org/wiki/12-hour_clock), convert it to military ($24$-hour) time.\n",
    "\n",
    "**Note:** Midnight is $12$:$00$:$00$AM on a $12$-hour clock, and $00$:$00$:$00$ on a $24$-hour clock. Noon is $12$:$00$:$00$PM on a $12$-hour clock, and $12$:$00$:$00$ on a $24$-hour clock.\n",
    "\n",
    "**Input Format**\n",
    "\n",
    "A single string containing a time in $12$-hour clock format (i.e. $hh$:$mm$:$ss$AM or $hh$:$mm$:$ss$PM), where $01 \\le hh \\le 12$ and $00 \\le mm, ~ss \\le 59$.\n",
    "\n",
    "**Output Format**\n",
    "\n",
    "Convert and print the given time in $24$-hour format, where $00 \\le hh \\le 23$.\n",
    "\n",
    "**Sample Input**\n",
    "> `07:05:45PM`\n",
    "\n",
    "**Sample Output**\n",
    "> `19:05:45`"
   ]
  },
  {
   "cell_type": "code",
   "execution_count": null,
   "metadata": {
    "hidden": true
   },
   "outputs": [],
   "source": [
    "#!/bin/python3\n",
    "\n",
    "import sys\n",
    "\n",
    "def timeConversion(s):\n",
    "    # Complete this function\n",
    "    if s[-2:] == 'AM':\n",
    "        if s[:2] == '12':\n",
    "            return '00' + s[2:-2]\n",
    "        else:\n",
    "            return s[:-2]\n",
    "    else:\n",
    "        if s[:2] == '12':\n",
    "            return s[:-2]\n",
    "        else:\n",
    "            return str(int(s[:2]) + 12) + s[2:-2]\n",
    "\n",
    "s = input().strip()\n",
    "result = timeConversion(s)\n",
    "print(result)"
   ]
  }
 ],
 "metadata": {
  "anaconda-cloud": {},
  "kernelspec": {
   "display_name": "Python [default]",
   "language": "python",
   "name": "python3"
  },
  "language_info": {
   "codemirror_mode": {
    "name": "ipython",
    "version": 3
   },
   "file_extension": ".py",
   "mimetype": "text/x-python",
   "name": "python",
   "nbconvert_exporter": "python",
   "pygments_lexer": "ipython3",
   "version": "3.5.4"
  },
  "varInspector": {
   "cols": {
    "lenName": 16,
    "lenType": 16,
    "lenVar": 40
   },
   "kernels_config": {
    "python": {
     "delete_cmd_postfix": "",
     "delete_cmd_prefix": "del ",
     "library": "var_list.py",
     "varRefreshCmd": "print(var_dic_list())"
    },
    "r": {
     "delete_cmd_postfix": ") ",
     "delete_cmd_prefix": "rm(",
     "library": "var_list.r",
     "varRefreshCmd": "cat(var_dic_list()) "
    }
   },
   "types_to_exclude": [
    "module",
    "function",
    "builtin_function_or_method",
    "instance",
    "_Feature"
   ],
   "window_display": false
  }
 },
 "nbformat": 4,
 "nbformat_minor": 2
}
