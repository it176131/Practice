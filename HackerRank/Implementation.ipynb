{
 "cells": [
  {
   "cell_type": "markdown",
   "metadata": {},
   "source": [
    "# 1. [Grading Students](https://www.hackerrank.com/challenges/grading/problem)"
   ]
  },
  {
   "cell_type": "markdown",
   "metadata": {},
   "source": [
    "HackerLand University has the following grading policy:\n",
    "* Every studen receives a *grade* in the inclusive range from $0$ to $100$.\n",
    "* Any *grade* less than $40$ is a failing grade.\n",
    "\n",
    "Sam is a professor at the university and likes to round each student's *grade* according to these rules:\n",
    "* If the difference between the *grade* and the next multiple of $5$ is less than $3$, round *grade* up to the next multiple of $5$.\n",
    "* If the value of *grade* is less than $38$, no rounding occurs as the result will still be a failing grade.\n",
    "\n",
    "For example, $grade = 84$ will be rounded to $85$ but $grade = 29$ will not be rounded because the rounding would result in a number that is less than $40$.\n",
    "\n",
    "Given the initial value of *grade* for each of Sam's $n$ students, write code to automate the rounding process. Complete the function `solve` that takes an integer array of all grades, and return an integer array consisting of the rounded grades. For each $grade_i$, round it according to the rules above and print the result on a new line.\n",
    "\n",
    "**Input Format**\n",
    "\n",
    "The format line contains a single integer denoting $n$ (the number of students).\n",
    "\n",
    "Each line $i$ of the $n$ subsequent lines contains a single integer, $grade_i$, denoting student $i$'s grade.\n",
    "\n",
    "**Constraints**\n",
    "* $1 \\le n \\le 60$\n",
    "* $0 \\le grade_i \\le 100$\n",
    "\n",
    "**Output Format**\n",
    "\n",
    "For each $grade_i$ of the $n$ grades, print the rounded grade on a new line.\n",
    "\n",
    "**Sample Input 0**\n",
    "> `4`\n",
    "\n",
    "> `73`\n",
    "\n",
    "> `67`\n",
    "\n",
    "> `38`\n",
    "\n",
    "> `33`\n",
    "\n",
    "**Sample Output 0**\n",
    "> `75`\n",
    "\n",
    "> `67`\n",
    "\n",
    "> `40`\n",
    "\n",
    "> `33`\n",
    "\n",
    "**Explanation 0**\n",
    "\n",
    "<img src = 'https://s3.amazonaws.com/hr-challenge-images/0/1484768684-54439977a1-curving2.png'>\n",
    "\n",
    "1. Student $1$ received a $73$, and the next multiple of $5$ from $73$ is $75$. Since $75 - 73 < 3$, the student's grade is rounded to $75$.\n",
    "2. Student $2$ received a $67$, and the next multiple of $5$ from $67$ is $70$. Since $70 - 67 = 3$, the grade will not be modified and the student's final grade is $67$.\n",
    "3. Student $3$ received a $38$, and the next multiple of $5$ from $38$ is $40$. Since $40 - 38 < 3$, the student's grade will be rounded to $40$.\n",
    "4. Student $4$ received a grade below $38$, so the grade will not be modified and the student's final grade is $33$."
   ]
  },
  {
   "cell_type": "code",
   "execution_count": null,
   "metadata": {},
   "outputs": [],
   "source": [
    "#!/bin/python3\n",
    "\n",
    "import sys\n",
    "\n",
    "def solve(grades):\n",
    "    # Complete this function\n",
    "\n",
    "n = int(input().strip())\n",
    "grades = []\n",
    "grades_i = 0\n",
    "for grades_i in range(n):\n",
    "    grades_t = int(input().strip())\n",
    "    grades.append(grades_t)\n",
    "result = solve(grades)\n",
    "print (\"\\n\".join(map(str, result)))"
   ]
  }
 ],
 "metadata": {
  "anaconda-cloud": {},
  "kernelspec": {
   "display_name": "Python [default]",
   "language": "python",
   "name": "python3"
  },
  "language_info": {
   "codemirror_mode": {
    "name": "ipython",
    "version": 3
   },
   "file_extension": ".py",
   "mimetype": "text/x-python",
   "name": "python",
   "nbconvert_exporter": "python",
   "pygments_lexer": "ipython3",
   "version": "3.5.4"
  },
  "varInspector": {
   "cols": {
    "lenName": 16,
    "lenType": 16,
    "lenVar": 40
   },
   "kernels_config": {
    "python": {
     "delete_cmd_postfix": "",
     "delete_cmd_prefix": "del ",
     "library": "var_list.py",
     "varRefreshCmd": "print(var_dic_list())"
    },
    "r": {
     "delete_cmd_postfix": ") ",
     "delete_cmd_prefix": "rm(",
     "library": "var_list.r",
     "varRefreshCmd": "cat(var_dic_list()) "
    }
   },
   "types_to_exclude": [
    "module",
    "function",
    "builtin_function_or_method",
    "instance",
    "_Feature"
   ],
   "window_display": false
  }
 },
 "nbformat": 4,
 "nbformat_minor": 2
}
