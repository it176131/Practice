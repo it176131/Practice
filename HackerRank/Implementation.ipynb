{
 "cells": [
  {
   "cell_type": "markdown",
   "metadata": {
    "heading_collapsed": true
   },
   "source": [
    "# 1. [Grading Students](https://www.hackerrank.com/challenges/grading/problem)"
   ]
  },
  {
   "cell_type": "markdown",
   "metadata": {
    "hidden": true
   },
   "source": [
    "HackerLand University has the following grading policy:\n",
    "* Every student receives a $grade$ in the inclusive range from $0$ to $100$.\n",
    "* Any $grade$ less than $40$ is a failing grade.\n",
    "\n",
    "Sam is a professor at the university and likes to round each student's $grade$ according to these rules:\n",
    "* If the difference between the $grade$ and the next multiple of $5$ is less than $3$, round $grade$ up to the next multiple of $5$.\n",
    "* If the value of $grade$ is less than $38$, no rounding occurs as the result will still be a failing grade.\n",
    "\n",
    "For example, $grade = 84$ will be rounded to $85$ but $grade = 29$ will not be rounded because the rounding would result in a number that is less than $40$.\n",
    "\n",
    "Given the initial value of $grade$ for each of Sam's $n$ students, write code to automate the rounding process. Complete the function `solve` that takes an integer array of all grades, and return an integer array consisting of the rounded grades. For each $grade_i$, round it according to the rules above and print the result on a new line.\n",
    "\n",
    "**Input Format**\n",
    "\n",
    "The format line contains a single integer denoting $n$ (the number of students).\n",
    "\n",
    "Each line $i$ of the $n$ subsequent lines contains a single integer, $grade_i$, denoting student $i$'s grade.\n",
    "\n",
    "**Constraints**\n",
    "* $1 \\le n \\le 60$\n",
    "* $0 \\le grade_i \\le 100$\n",
    "\n",
    "**Output Format**\n",
    "\n",
    "For each $grade_i$ of the $n$ grades, print the rounded grade on a new line.\n",
    "\n",
    "**Sample Input 0**\n",
    "> `4`\n",
    "\n",
    "> `73`\n",
    "\n",
    "> `67`\n",
    "\n",
    "> `38`\n",
    "\n",
    "> `33`\n",
    "\n",
    "**Sample Output 0**\n",
    "> `75`\n",
    "\n",
    "> `67`\n",
    "\n",
    "> `40`\n",
    "\n",
    "> `33`\n",
    "\n",
    "**Explanation 0**\n",
    "\n",
    "<img src = 'https://s3.amazonaws.com/hr-challenge-images/0/1484768684-54439977a1-curving2.png'>\n",
    "\n",
    "1. Student $1$ received a $73$, and the next multiple of $5$ from $73$ is $75$. Since $75 - 73 < 3$, the student's grade is rounded to $75$.\n",
    "2. Student $2$ received a $67$, and the next multiple of $5$ from $67$ is $70$. Since $70 - 67 = 3$, the grade will not be modified and the student's final grade is $67$.\n",
    "3. Student $3$ received a $38$, and the next multiple of $5$ from $38$ is $40$. Since $40 - 38 < 3$, the student's grade will be rounded to $40$.\n",
    "4. Student $4$ received a grade below $38$, so the grade will not be modified and the student's final grade is $33$."
   ]
  },
  {
   "cell_type": "code",
   "execution_count": null,
   "metadata": {
    "hidden": true
   },
   "outputs": [],
   "source": [
    "#!/bin/python3\n",
    "\n",
    "import sys\n",
    "\n",
    "def solve(grades):\n",
    "    # Complete this function\n",
    "    return [i if i < 38 else (i + (round(i, -1) - i)%5) if (round(i, -1) - i)%5 < 3 else i for i in grades]\n",
    "\n",
    "n = int(input().strip())\n",
    "grades = []\n",
    "grades_i = 0\n",
    "for grades_i in range(n):\n",
    "    grades_t = int(input().strip())\n",
    "    grades.append(grades_t)\n",
    "result = solve(grades)\n",
    "print (\"\\n\".join(map(str, result)))"
   ]
  },
  {
   "cell_type": "markdown",
   "metadata": {
    "heading_collapsed": true
   },
   "source": [
    "# 2. [Apple and Orange](https://www.hackerrank.com/challenges/apple-and-orange/problem)"
   ]
  },
  {
   "cell_type": "markdown",
   "metadata": {
    "hidden": true
   },
   "source": [
    "Sam's house has an apple tree and an orange tree that yield an abundance of fruit. In the diagram below, the red region denotes his house, where $s$ is the start point, and $t$ is the end point. The apple tree is to the left of his house, and the orange tree is to its right. You can assume the trees are located on a single point, where the apple tree is at point $a$, and the orange tree is at point $b$.\n",
    "\n",
    "<img src = 'https://s3.amazonaws.com/hr-challenge-images/25220/1474218925-f2a791d52c-Appleandorange2.png'>\n",
    "\n",
    "When a fruit falls from its tree, it lands $d$ units to the tree's left, and positive value of $d$ means it falls $d$ units to the tree's right.\n",
    "\n",
    "Complete the function `countApplesAndOranges`,\n",
    "\n",
    "where,\n",
    "\n",
    "$start$ Starting point of Sam's house location.\n",
    "\n",
    "$end$ Ending location of Sam's house location.\n",
    "\n",
    "$loc_a$ Location of the Orange tree.\n",
    "\n",
    "$size_a$ Number of apples that fell from the tree.\n",
    "\n",
    "$apples$ Distance at which each apple falls from the tree.\n",
    "\n",
    "$size_o$ Number of oranges that fell from the tree.\n",
    "\n",
    "$oranges$ Distance at which each orange falls from the tree.\n",
    "\n",
    "Given the value of $d$ for $m$ apples and $n$ oranges, can you determine how many apples and oranges will fall on Sam's house (i.e., in the inclusive range $[s, ~t]$)? Print the number of apples that fall on Sam's house as your first line of output, then print the number of oranges that fall on Sam's house as your second line of output.\n",
    "\n",
    "**Input Format**\n",
    "\n",
    "The first line contains two space-separated integers denoting the respective values of $s$ and $t$.\n",
    "\n",
    "The second line contains two space-separated integers denoting the respective values of $a$ and $b$.\n",
    "\n",
    "The third line contains two space-separated integers denoting the respective values of $m$ and $n$.\n",
    "\n",
    "The fourth line contains $m$ space-separated integers denoting the respective distances that each apple falls from point $a$.\n",
    "\n",
    "The fifth line contains $n$ space-separated integers denoting the respective distances that each orange falls from point $b$.\n",
    "\n",
    "**Constraints**\n",
    "* $1 \\le s, ~t, ~a, ~b, ~m, ~n \\le 10^5$\n",
    "* $-10^5 \\le d \\le 10^5$\n",
    "* $a < s < t < b$\n",
    "\n",
    "**Output Format**\n",
    "\n",
    "Print two lines of output:\n",
    "1. On the first line, print the number of apples that fall on Sam's house.\n",
    "2. On the second line, print the number of oranges that fall on Sam's house.\n",
    "\n",
    "**Sample Input 0**\n",
    "> `7 11`\n",
    "\n",
    "> `5 15`\n",
    "\n",
    "> `3 2`\n",
    "\n",
    "> `-2 2 1`\n",
    "\n",
    "> `5 -6`\n",
    "\n",
    "**Sample Output 0**\n",
    "> `1`\n",
    "\n",
    "> `1`\n",
    "\n",
    "**Explanation 0**\n",
    "\n",
    "The first apple falls at position $5 - 2 = 3$.\n",
    "\n",
    "The second apple falls at position $5 + 2 = 7$.\n",
    "\n",
    "The third apple falls at position $5 + 1 = 6$.\n",
    "\n",
    "The first orange falls at position $15 + 5 = 20$.\n",
    "\n",
    "The second orange falls at position $15 - 6 = 9$.\n",
    "\n",
    "Only one fruit (the second apple) falls within the region between $7$ and $11$, so we print $1$ as our first line of output.\n",
    "\n",
    "Only the second orange falls within the region between $7$ and $11$, so we print $1$ as our second line of output."
   ]
  },
  {
   "cell_type": "code",
   "execution_count": null,
   "metadata": {
    "hidden": true
   },
   "outputs": [],
   "source": [
    "#!/bin/python3\n",
    "\n",
    "import sys\n",
    "\n",
    "def appleAndOrange(s, t, a, b, apple, orange):\n",
    "    # Complete this function\n",
    "    return [\n",
    "        sum([a + i in range(s, t + 1) for i in apple]),\n",
    "        sum([b + i in range(s, t + 1) for i in orange])\n",
    "    ]\n",
    "\n",
    "if __name__ == \"__main__\":\n",
    "    s, t = input().strip().split(' ')\n",
    "    s, t = [int(s), int(t)]\n",
    "    a, b = input().strip().split(' ')\n",
    "    a, b = [int(a), int(b)]\n",
    "    m, n = input().strip().split(' ')\n",
    "    m, n = [int(m), int(n)]\n",
    "    apple = list(map(int, input().strip().split(' ')))\n",
    "    orange = list(map(int, input().strip().split(' ')))\n",
    "    result = appleAndOrange(s, t, a, b, apple, orange)\n",
    "    print (\"\\n\".join(map(str, result)))"
   ]
  },
  {
   "cell_type": "markdown",
   "metadata": {
    "heading_collapsed": true
   },
   "source": [
    "# 3. [Kangaroo](https://www.hackerrank.com/challenges/kangaroo/problem)"
   ]
  },
  {
   "cell_type": "markdown",
   "metadata": {
    "hidden": true
   },
   "source": [
    "You are choreographing a circus show with various animals. For one act, you are given two kangaroos on a number line ready to jump in the positive direction (i.e, toward positive infinity).\n",
    "* The first kangaroo starts at location $x_1$ and moves at a rate of $v_1$ meters per jump.\n",
    "* The second kangaroo starts at location $x_2$ and moves at a rate of $v_2$ meters per jump.\n",
    "\n",
    "You have to figure out a way to get both kangaroos at the same location as part of the show.\n",
    "\n",
    "Complete the function `kangaroo` which takes starting location and speed of both kangaroos as input, and return $Yes$ or $No$ appropriately. Can you determine if the kangaroos will ever land *at the same location at the same time?*\n",
    "\n",
    "**Input Format**\n",
    "\n",
    "A single line of four space-separated integers denoting the respective values of $x_1$, $v_1$, $x_2$, and $v_2$.\n",
    "\n",
    "**Constraints**\n",
    "* $0 \\le x_1 < x_2 \\le 10000$\n",
    "* $1 \\le v_1 \\le 10000$\n",
    "* $1 \\le v_2 \\le 10000$\n",
    "\n",
    "**Output Format**\n",
    "\n",
    "Print `YES` if they can land on the same location at the same time; otherwise, print `NO`.\n",
    "\n",
    "**Note:** The two kangaroos must land at the same location *after making the same number of jumps*.\n",
    "\n",
    "**Sample Output**\n",
    "> `0 3 4 2`\n",
    "\n",
    "**Sample Output 0**\n",
    "> `YES`\n",
    "\n",
    "**Explanation 0**\n",
    "\n",
    "The two kangaroos jump through the following sequence of locations:\n",
    "\n",
    "<img src = 'https://s3.amazonaws.com/hr-assets/0/1516005283-e74e76ff0c-kangaroo.png'>\n",
    "\n",
    "From the image, it is clear that the kangaroos meet at the same location (number $12$ on the number line) after the same number of jumps ($4$ jumps), and we print `YES`.\n",
    "\n",
    "**Sample Input 1**\n",
    "> `0 2 5 3`\n",
    "\n",
    "**Sample Output 1**\n",
    "> `NO`\n",
    "\n",
    "**Explanation**\n",
    "\n",
    "The second kangaroo has a starting location that is ahead (further to the right) of the first kangaroo's starting location (i.e., $x_2 > x_1$). Because the second kangaroo moves at a faster rate (meaning $v_2 > v_1$) *and* is already ahead of the first kangaroo, the first kangaroo will never be able to catch up. Thus, we print `NO`."
   ]
  },
  {
   "cell_type": "code",
   "execution_count": null,
   "metadata": {
    "hidden": true
   },
   "outputs": [],
   "source": [
    "#!/bin/python3\n",
    "\n",
    "import sys\n",
    "\n",
    "def kangaroo(x1, v1, x2, v2):\n",
    "    # Complete this function\n",
    "    if (x1 - x2) % (v2 - v1) == 0 and v1 > v2:\n",
    "        return 'YES'\n",
    "    else:\n",
    "        return 'NO'\n",
    "\n",
    "x1, v1, x2, v2 = input().strip().split(' ')\n",
    "x1, v1, x2, v2 = [int(x1), int(v1), int(x2), int(v2)]\n",
    "result = kangaroo(x1, v1, x2, v2)\n",
    "print(result)"
   ]
  },
  {
   "cell_type": "markdown",
   "metadata": {
    "heading_collapsed": true
   },
   "source": [
    "# 4. [Between Two Sets](https://www.hackerrank.com/challenges/between-two-sets/problem)"
   ]
  },
  {
   "cell_type": "markdown",
   "metadata": {
    "hidden": true
   },
   "source": [
    "Consider two sets of positive integers, $A = \\{a_0, ~a_1, \\ldots, ~a_{n - 1}\\}$ and $B = \\{b_0, ~b_1, \\ldots, ~b_{m - 1}\\}$. We say that a positive integer, $x$, is *between* sets $A$ and $B$ if the following conditions are satisfied:\n",
    "1. All elements in $A$ are factors of $x$.\n",
    "2. $x$ is a factor of all elements in $B$.\n",
    "\n",
    "In other words, some $x$ is *between* $A$ and $B$ if that value of $x$ satisfies $x ~mod ~a_i = 0$ for every $a_i$ in $A$ and also satisfies $b_i ~mod ~x = 0$ for every $b_i$ in $B$. For example, if $A = \\{2, ~6\\}$ and $B = \\{12\\}$, then our possible $x$ values are $6$ and $12$.\n",
    "\n",
    "Given $A$ and $B$, find and print the number of integers (i.e., possible $x$'s) that are *between* the two sets.\n",
    "\n",
    "**Input Format**\n",
    "\n",
    "The first line contains two space-separated integers describing the respective values of $n$ (the number of elements in set $A$) and $m$ (the number of elements in set $B$).\n",
    "\n",
    "The second line contains $n$ distinct space-separated integers describing $a_0, ~a_1, \\ldots, ~a_{n - 1}$.\n",
    "\n",
    "The third line contains $m$ distinct space-separated integers describing $b_0, ~b_1, \\ldots, ~b_{m - 1}$.\n",
    "\n",
    "**Constraints**\n",
    "* $1 \\le n, ~m \\le 10$\n",
    "* $1 \\le a_i \\le 100$\n",
    "* $1 \\le b_i \\le 100$\n",
    "\n",
    "**Output Format**\n",
    "\n",
    "Print the number of integers that are considered to be *between* $A$ and $B$.\n",
    "\n",
    "**Sample Input**\n",
    "> `2 3`\n",
    "\n",
    "> `2 4`\n",
    "\n",
    "> `16 32 96`\n",
    "\n",
    "**Sample Output**\n",
    "> `3`\n",
    "\n",
    "**Explanation**\n",
    "\n",
    "There are three $x$ values between $A = \\{2, ~4\\}$ and $B = \\{16, ~32, ~96\\}$:\n",
    "* $x = 4$:\n",
    "    * All the elements in $A$ evenly divide $x = 4$.\n",
    "    * $x = 4$ evenly divides all the elements in $B$.\n",
    "* $x = 8$:\n",
    "    * All the elements in $A$ evenly divide $x = 8$.\n",
    "    * $x = 8$ evenly divides all the elements in $B$.\n",
    "* $x = 16$:\n",
    "    * All the elements in $A$ evenly divide $x = 16$.\n",
    "    * $x = 16$ evenly divides all the elements in $B$.\n",
    "\n",
    "The, we print $3$ as our answer."
   ]
  },
  {
   "cell_type": "code",
   "execution_count": null,
   "metadata": {
    "hidden": true
   },
   "outputs": [],
   "source": [
    "#!/bin/python3\n",
    "\n",
    "import sys\n",
    "from math import gcd\n",
    "from functools import reduce\n",
    "\n",
    "def getTotalX(a, b):\n",
    "    # Complete this function\n",
    "    g = reduce(gcd, b)\n",
    "    l = reduce(lambda x,y : x*y//gcd(x,y), a)\n",
    "    return len([j for j in [i for i in range(l, g+1) if i % l == 0] if g % j == 0])\n",
    "\n",
    "if __name__ == \"__main__\":\n",
    "    n, m = input().strip().split(' ')\n",
    "    n, m = [int(n), int(m)]\n",
    "    a = list(map(int, input().strip().split(' ')))\n",
    "    b = list(map(int, input().strip().split(' ')))\n",
    "    total = getTotalX(a, b)\n",
    "    print(total)"
   ]
  },
  {
   "cell_type": "markdown",
   "metadata": {},
   "source": [
    "# 5. [Breaking the Records](https://www.hackerrank.com/challenges/breaking-best-and-worst-records/problem)"
   ]
  },
  {
   "cell_type": "markdown",
   "metadata": {},
   "source": [
    "Maria plays college basketball and wants to go pro. Each season she maintains a record of her play. She tabulates the number of times she breaks her season record for *most points* and *least points* in a game. Points scored in the first game establish her record for the season, and she begins counting from there.\n",
    "\n",
    "For example, assume her score for the season are represented in the array $score = [12, 24, 10, 24]$. Scores are in the same order as the games played. She would tabulate her results as follows:"
   ]
  },
  {
   "cell_type": "raw",
   "metadata": {},
   "source": [
    "                                 Count\n",
    "Game  Score  Minimum  Maximum   Min Max\n",
    " 0      12     12       12       0   0\n",
    " 1      24     12       24       0   1\n",
    " 2      10     10       24       1   1\n",
    " 3      24     10       24       1   1"
   ]
  },
  {
   "cell_type": "markdown",
   "metadata": {},
   "source": [
    "Given Maria's array of $scores$ for a season of $n$ games, find and print the number of times she breaks her records for *most* and *least* points scored during the season.\n",
    "\n",
    "**Input Format**\n",
    "\n",
    "The first line contains an integer $n$, the number of games.\n",
    "\n",
    "The second line contains $n$ space-separated integers describing the respective values of $score_0, score_1, \\dots, score_{n-1}$.\n",
    "\n",
    "**Constraints**\n",
    "* $1 \\le n \\le 1000$\n",
    "* $0 \\le score_i \\le 10^8$\n",
    "\n",
    "**Output Format**\n",
    "\n",
    "Print two space-separated integers describing the respective numbers of times her best (highest) score increased and her worst (lowest) score decreased.\n",
    "\n",
    "**Sample Input 0**"
   ]
  },
  {
   "cell_type": "raw",
   "metadata": {},
   "source": [
    "9\n",
    "10 5 20 20 4 5 2 25 1"
   ]
  },
  {
   "cell_type": "markdown",
   "metadata": {},
   "source": [
    "**Sample Output 0**"
   ]
  },
  {
   "cell_type": "raw",
   "metadata": {},
   "source": [
    "2 4"
   ]
  },
  {
   "cell_type": "markdown",
   "metadata": {},
   "source": [
    "**Explanation 0**\n",
    "\n",
    "The diagram below depicts the number of times Maria broke her best and worst records throughout the season:\n",
    "\n",
    "<img src = 'https://s3.amazonaws.com/hr-assets/0/1487360234-6bca5c518d-breakingbest3.png'>\n",
    "\n",
    "She broke her best record twice (after games $2$ and $7$) and her worst record four time (after games $1$, $4$, $6$, and $8$), so we print `2 4` as our answer. Note that she *did not* break her record for best score during game $3$, as her score during that game was *not* strictly greater than her best record at the time.\n",
    "\n",
    "**Sample Input 1**"
   ]
  },
  {
   "cell_type": "raw",
   "metadata": {},
   "source": [
    "10\n",
    "3 4 21 36 10 28 35 5 24 42"
   ]
  },
  {
   "cell_type": "markdown",
   "metadata": {},
   "source": [
    "**Sample Output 1**"
   ]
  },
  {
   "cell_type": "raw",
   "metadata": {},
   "source": [
    "4 0"
   ]
  },
  {
   "cell_type": "markdown",
   "metadata": {},
   "source": [
    "**Explanation 1**\n",
    "\n",
    "The diagram below depicts the number of times Maria broke her worst records throughout the season:\n",
    "\n",
    "<img src = 'https://s3.amazonaws.com/hr-assets/0/1487360375-aee4388234-breakingbest5.png'>\n",
    "\n",
    "She broke her best record four times (after games $1$, $2$, $3$, and $9$) and her worst record zero times (no score during the season was lower than the one she earned during her first game), so we print `4 0` as our answer."
   ]
  },
  {
   "cell_type": "code",
   "execution_count": null,
   "metadata": {},
   "outputs": [],
   "source": [
    "#!/bin/python3\n",
    "\n",
    "import os\n",
    "import sys\n",
    "\n",
    "#\n",
    "# Complete the breakingRecords function below.\n",
    "#\n",
    "def breakingRecords(score):\n",
    "    #\n",
    "    # Write your code here.\n",
    "    #\n",
    "    \n",
    "\n",
    "if __name__ == '__main__':\n",
    "    f = open(os.environ['OUTPUT_PATH'], 'w')\n",
    "\n",
    "    n = int(input())\n",
    "\n",
    "    score = list(map(int, input().rstrip().split()))\n",
    "\n",
    "    result = breakingRecords(score)\n",
    "\n",
    "    f.write(' '.join(map(str, result)))\n",
    "    f.write('\\n')\n",
    "\n",
    "    f.close()\n"
   ]
  }
 ],
 "metadata": {
  "anaconda-cloud": {},
  "kernelspec": {
   "display_name": "Python [default]",
   "language": "python",
   "name": "python3"
  },
  "language_info": {
   "codemirror_mode": {
    "name": "ipython",
    "version": 3
   },
   "file_extension": ".py",
   "mimetype": "text/x-python",
   "name": "python",
   "nbconvert_exporter": "python",
   "pygments_lexer": "ipython3",
   "version": "3.5.5"
  },
  "varInspector": {
   "cols": {
    "lenName": 16,
    "lenType": 16,
    "lenVar": 40
   },
   "kernels_config": {
    "python": {
     "delete_cmd_postfix": "",
     "delete_cmd_prefix": "del ",
     "library": "var_list.py",
     "varRefreshCmd": "print(var_dic_list())"
    },
    "r": {
     "delete_cmd_postfix": ") ",
     "delete_cmd_prefix": "rm(",
     "library": "var_list.r",
     "varRefreshCmd": "cat(var_dic_list()) "
    }
   },
   "types_to_exclude": [
    "module",
    "function",
    "builtin_function_or_method",
    "instance",
    "_Feature"
   ],
   "window_display": false
  }
 },
 "nbformat": 4,
 "nbformat_minor": 2
}
