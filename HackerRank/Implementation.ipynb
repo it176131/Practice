{
 "cells": [
  {
   "cell_type": "markdown",
   "metadata": {
    "heading_collapsed": true
   },
   "source": [
    "# 1. [Grading Students](https://www.hackerrank.com/challenges/grading/problem)"
   ]
  },
  {
   "cell_type": "markdown",
   "metadata": {
    "hidden": true
   },
   "source": [
    "HackerLand University has the following grading policy:\n",
    "* Every student receives a $grade$ in the inclusive range from $0$ to $100$.\n",
    "* Any $grade$ less than $40$ is a failing grade.\n",
    "\n",
    "Sam is a professor at the university and likes to round each student's $grade$ according to these rules:\n",
    "* If the difference between the $grade$ and the next multiple of $5$ is less than $3$, round $grade$ up to the next multiple of $5$.\n",
    "* If the value of $grade$ is less than $38$, no rounding occurs as the result will still be a failing grade.\n",
    "\n",
    "For example, $grade = 84$ will be rounded to $85$ but $grade = 29$ will not be rounded because the rounding would result in a number that is less than $40$.\n",
    "\n",
    "Given the initial value of $grade$ for each of Sam's $n$ students, write code to automate the rounding process. Complete the function `solve` that takes an integer array of all grades, and return an integer array consisting of the rounded grades. For each $grade_i$, round it according to the rules above and print the result on a new line.\n",
    "\n",
    "**Input Format**\n",
    "\n",
    "The format line contains a single integer denoting $n$ (the number of students).\n",
    "\n",
    "Each line $i$ of the $n$ subsequent lines contains a single integer, $grade_i$, denoting student $i$'s grade.\n",
    "\n",
    "**Constraints**\n",
    "* $1 \\le n \\le 60$\n",
    "* $0 \\le grade_i \\le 100$\n",
    "\n",
    "**Output Format**\n",
    "\n",
    "For each $grade_i$ of the $n$ grades, print the rounded grade on a new line.\n",
    "\n",
    "**Sample Input 0**\n",
    "> `4`\n",
    "\n",
    "> `73`\n",
    "\n",
    "> `67`\n",
    "\n",
    "> `38`\n",
    "\n",
    "> `33`\n",
    "\n",
    "**Sample Output 0**\n",
    "> `75`\n",
    "\n",
    "> `67`\n",
    "\n",
    "> `40`\n",
    "\n",
    "> `33`\n",
    "\n",
    "**Explanation 0**\n",
    "\n",
    "<img src = 'https://s3.amazonaws.com/hr-challenge-images/0/1484768684-54439977a1-curving2.png'>\n",
    "\n",
    "1. Student $1$ received a $73$, and the next multiple of $5$ from $73$ is $75$. Since $75 - 73 < 3$, the student's grade is rounded to $75$.\n",
    "2. Student $2$ received a $67$, and the next multiple of $5$ from $67$ is $70$. Since $70 - 67 = 3$, the grade will not be modified and the student's final grade is $67$.\n",
    "3. Student $3$ received a $38$, and the next multiple of $5$ from $38$ is $40$. Since $40 - 38 < 3$, the student's grade will be rounded to $40$.\n",
    "4. Student $4$ received a grade below $38$, so the grade will not be modified and the student's final grade is $33$."
   ]
  },
  {
   "cell_type": "code",
   "execution_count": null,
   "metadata": {
    "hidden": true
   },
   "outputs": [],
   "source": [
    "#!/bin/python3\n",
    "\n",
    "import sys\n",
    "\n",
    "def solve(grades):\n",
    "    # Complete this function\n",
    "    return [i if i < 38 else (i + (round(i, -1) - i)%5) if (round(i, -1) - i)%5 < 3 else i for i in grades]\n",
    "\n",
    "n = int(input().strip())\n",
    "grades = []\n",
    "grades_i = 0\n",
    "for grades_i in range(n):\n",
    "    grades_t = int(input().strip())\n",
    "    grades.append(grades_t)\n",
    "result = solve(grades)\n",
    "print (\"\\n\".join(map(str, result)))"
   ]
  },
  {
   "cell_type": "markdown",
   "metadata": {
    "heading_collapsed": true
   },
   "source": [
    "# 2. [Apple and Orange](https://www.hackerrank.com/challenges/apple-and-orange/problem)"
   ]
  },
  {
   "cell_type": "markdown",
   "metadata": {
    "hidden": true
   },
   "source": [
    "Sam's house has an apple tree and an orange tree that yield an abundance of fruit. In the diagram below, the red region denotes his house, where $s$ is the start point, and $t$ is the end point. The apple tree is to the left of his house, and the orange tree is to its right. You can assume the trees are located on a single point, where the apple tree is at point $a$, and the orange tree is at point $b$.\n",
    "\n",
    "<img src = 'https://s3.amazonaws.com/hr-challenge-images/25220/1474218925-f2a791d52c-Appleandorange2.png'>\n",
    "\n",
    "When a fruit falls from its tree, it lands $d$ units to the tree's left, and positive value of $d$ means it falls $d$ units to the tree's right.\n",
    "\n",
    "Complete the function `countApplesAndOranges`,\n",
    "\n",
    "where,\n",
    "\n",
    "$start$ Starting point of Sam's house location.\n",
    "\n",
    "$end$ Ending location of Sam's house location.\n",
    "\n",
    "$loc_a$ Location of the Orange tree.\n",
    "\n",
    "$size_a$ Number of apples that fell from the tree.\n",
    "\n",
    "$apples$ Distance at which each apple falls from the tree.\n",
    "\n",
    "$size_o$ Number of oranges that fell from the tree.\n",
    "\n",
    "$oranges$ Distance at which each orange falls from the tree.\n",
    "\n",
    "Given the value of $d$ for $m$ apples and $n$ oranges, can you determine how many apples and oranges will fall on Sam's house (i.e., in the inclusive range $[s, ~t]$)? Print the number of apples that fall on Sam's house as your first line of output, then print the number of oranges that fall on Sam's house as your second line of output.\n",
    "\n",
    "**Input Format**\n",
    "\n",
    "The first line contains two space-separated integers denoting the respective values of $s$ and $t$.\n",
    "\n",
    "The second line contains two space-separated integers denoting the respective values of $a$ and $b$.\n",
    "\n",
    "The third line contains two space-separated integers denoting the respective values of $m$ and $n$.\n",
    "\n",
    "The fourth line contains $m$ space-separated integers denoting the respective distances that each apple falls from point $a$.\n",
    "\n",
    "The fifth line contains $n$ space-separated integers denoting the respective distances that each orange falls from point $b$.\n",
    "\n",
    "**Constraints**\n",
    "* $1 \\le s, ~t, ~a, ~b, ~m, ~n \\le 10^5$\n",
    "* $-10^5 \\le d \\le 10^5$\n",
    "* $a < s < t < b$\n",
    "\n",
    "**Output Format**\n",
    "\n",
    "Print two lines of output:\n",
    "1. On the first line, print the number of apples that fall on Sam's house.\n",
    "2. On the second line, print the number of oranges that fall on Sam's house.\n",
    "\n",
    "**Sample Input 0**\n",
    "> `7 11`\n",
    "\n",
    "> `5 15`\n",
    "\n",
    "> `3 2`\n",
    "\n",
    "> `-2 2 1`\n",
    "\n",
    "> `5 -6`\n",
    "\n",
    "**Sample Output 0**\n",
    "> `1`\n",
    "\n",
    "> `1`\n",
    "\n",
    "**Explanation 0**\n",
    "\n",
    "The first apple falls at position $5 - 2 = 3$.\n",
    "\n",
    "The second apple falls at position $5 + 2 = 7$.\n",
    "\n",
    "The third apple falls at position $5 + 1 = 6$.\n",
    "\n",
    "The first orange falls at position $15 + 5 = 20$.\n",
    "\n",
    "The second orange falls at position $15 - 6 = 9$.\n",
    "\n",
    "Only one fruit (the second apple) falls within the region between $7$ and $11$, so we print $1$ as our first line of output.\n",
    "\n",
    "Only the second orange falls within the region between $7$ and $11$, so we print $1$ as our second line of output."
   ]
  },
  {
   "cell_type": "code",
   "execution_count": null,
   "metadata": {
    "hidden": true
   },
   "outputs": [],
   "source": [
    "#!/bin/python3\n",
    "\n",
    "import sys\n",
    "\n",
    "def appleAndOrange(s, t, a, b, apple, orange):\n",
    "    # Complete this function\n",
    "    return [\n",
    "        sum([a + i in range(s, t + 1) for i in apple]),\n",
    "        sum([b + i in range(s, t + 1) for i in orange])\n",
    "    ]\n",
    "\n",
    "if __name__ == \"__main__\":\n",
    "    s, t = input().strip().split(' ')\n",
    "    s, t = [int(s), int(t)]\n",
    "    a, b = input().strip().split(' ')\n",
    "    a, b = [int(a), int(b)]\n",
    "    m, n = input().strip().split(' ')\n",
    "    m, n = [int(m), int(n)]\n",
    "    apple = list(map(int, input().strip().split(' ')))\n",
    "    orange = list(map(int, input().strip().split(' ')))\n",
    "    result = appleAndOrange(s, t, a, b, apple, orange)\n",
    "    print (\"\\n\".join(map(str, result)))"
   ]
  },
  {
   "cell_type": "markdown",
   "metadata": {
    "heading_collapsed": true
   },
   "source": [
    "# 3. [Kangaroo](https://www.hackerrank.com/challenges/kangaroo/problem)"
   ]
  },
  {
   "cell_type": "markdown",
   "metadata": {
    "hidden": true
   },
   "source": [
    "You are choreographing a circus show with various animals. For one act, you are given two kangaroos on a number line ready to jump in the positive direction (i.e, toward positive infinity).\n",
    "* The first kangaroo starts at location $x_1$ and moves at a rate of $v_1$ meters per jump.\n",
    "* The second kangaroo starts at location $x_2$ and moves at a rate of $v_2$ meters per jump.\n",
    "\n",
    "You have to figure out a way to get both kangaroos at the same location as part of the show.\n",
    "\n",
    "Complete the function `kangaroo` which takes starting location and speed of both kangaroos as input, and return $Yes$ or $No$ appropriately. Can you determine if the kangaroos will ever land *at the same location at the same time?*\n",
    "\n",
    "**Input Format**\n",
    "\n",
    "A single line of four space-separated integers denoting the respective values of $x_1$, $v_1$, $x_2$, and $v_2$.\n",
    "\n",
    "**Constraints**\n",
    "* $0 \\le x_1 < x_2 \\le 10000$\n",
    "* $1 \\le v_1 \\le 10000$\n",
    "* $1 \\le v_2 \\le 10000$\n",
    "\n",
    "**Output Format**\n",
    "\n",
    "Print `YES` if they can land on the same location at the same time; otherwise, print `NO`.\n",
    "\n",
    "**Note:** The two kangaroos must land at the same location *after making the same number of jumps*.\n",
    "\n",
    "**Sample Output**\n",
    "> `0 3 4 2`\n",
    "\n",
    "**Sample Output 0**\n",
    "> `YES`\n",
    "\n",
    "**Explanation 0**\n",
    "\n",
    "The two kangaroos jump through the following sequence of locations:\n",
    "\n",
    "<img src = 'https://s3.amazonaws.com/hr-assets/0/1516005283-e74e76ff0c-kangaroo.png'>\n",
    "\n",
    "From the image, it is clear that the kangaroos meet at the same location (number $12$ on the number line) after the same number of jumps ($4$ jumps), and we print `YES`.\n",
    "\n",
    "**Sample Input 1**\n",
    "> `0 2 5 3`\n",
    "\n",
    "**Sample Output 1**\n",
    "> `NO`\n",
    "\n",
    "**Explanation**\n",
    "\n",
    "The second kangaroo has a starting location that is ahead (further to the right) of the first kangaroo's starting location (i.e., $x_2 > x_1$). Because the second kangaroo moves at a faster rate (meaning $v_2 > v_1$) *and* is already ahead of the first kangaroo, the first kangaroo will never be able to catch up. Thus, we print `NO`."
   ]
  },
  {
   "cell_type": "code",
   "execution_count": null,
   "metadata": {
    "hidden": true
   },
   "outputs": [],
   "source": [
    "#!/bin/python3\n",
    "\n",
    "import sys\n",
    "\n",
    "def kangaroo(x1, v1, x2, v2):\n",
    "    # Complete this function\n",
    "    if (x1 - x2) % (v2 - v1) == 0 and v1 > v2:\n",
    "        return 'YES'\n",
    "    else:\n",
    "        return 'NO'\n",
    "\n",
    "x1, v1, x2, v2 = input().strip().split(' ')\n",
    "x1, v1, x2, v2 = [int(x1), int(v1), int(x2), int(v2)]\n",
    "result = kangaroo(x1, v1, x2, v2)\n",
    "print(result)"
   ]
  },
  {
   "cell_type": "markdown",
   "metadata": {},
   "source": [
    "# 4. [Between Two Sets](https://www.hackerrank.com/challenges/between-two-sets/problem)"
   ]
  },
  {
   "cell_type": "code",
   "execution_count": null,
   "metadata": {},
   "outputs": [],
   "source": []
  }
 ],
 "metadata": {
  "anaconda-cloud": {},
  "kernelspec": {
   "display_name": "Python [default]",
   "language": "python",
   "name": "python3"
  },
  "language_info": {
   "codemirror_mode": {
    "name": "ipython",
    "version": 3
   },
   "file_extension": ".py",
   "mimetype": "text/x-python",
   "name": "python",
   "nbconvert_exporter": "python",
   "pygments_lexer": "ipython3",
   "version": "3.5.4"
  },
  "varInspector": {
   "cols": {
    "lenName": 16,
    "lenType": 16,
    "lenVar": 40
   },
   "kernels_config": {
    "python": {
     "delete_cmd_postfix": "",
     "delete_cmd_prefix": "del ",
     "library": "var_list.py",
     "varRefreshCmd": "print(var_dic_list())"
    },
    "r": {
     "delete_cmd_postfix": ") ",
     "delete_cmd_prefix": "rm(",
     "library": "var_list.r",
     "varRefreshCmd": "cat(var_dic_list()) "
    }
   },
   "types_to_exclude": [
    "module",
    "function",
    "builtin_function_or_method",
    "instance",
    "_Feature"
   ],
   "window_display": false
  }
 },
 "nbformat": 4,
 "nbformat_minor": 2
}
