{
 "cells": [
  {
   "cell_type": "markdown",
   "metadata": {
    "heading_collapsed": true
   },
   "source": [
    "# Algorithmic Odds N' Ends"
   ]
  },
  {
   "cell_type": "markdown",
   "metadata": {
    "heading_collapsed": true,
    "hidden": true
   },
   "source": [
    "## [1. Python: The language for algorithms](https://www.codecademy.com/courses/python-intermediate-en-NYXmc/0/1)"
   ]
  },
  {
   "cell_type": "markdown",
   "metadata": {
    "hidden": true
   },
   "source": [
    "Python is the *best* language to build algorithms with. Algorithms are (according to the [Wikipedia Page](http://en.wikipedia.org/wiki/Algorithm) \"step-by-step\" procedure[s] for calculations.\" Python is built with its robust math functions to be able to handle such problems such as powers, primes, and the such *easily*. We are not saying that other languages *can't* do it, but Python is definitely the *best* language to do it *with*."
   ]
  },
  {
   "cell_type": "markdown",
   "metadata": {
    "heading_collapsed": true,
    "hidden": true
   },
   "source": [
    "## [2. Infinite Loops](https://www.codecademy.com/courses/python-intermediate-en-NYXmc/0/2)"
   ]
  },
  {
   "cell_type": "markdown",
   "metadata": {
    "hidden": true
   },
   "source": [
    "The infinite loop is an indispensable tool in the creation of algorithms. This may sound unusual to a novice who has learned to try to never create them, so as to not crash the system, but they can be very beneficial in searching for numbers. A simple infinite loop can be created using a `while True` loop, which will continue forever until it reaches a `break` command. Take this code for example,"
   ]
  },
  {
   "cell_type": "code",
   "execution_count": 3,
   "metadata": {
    "hidden": true
   },
   "outputs": [
    {
     "name": "stdout",
     "output_type": "stream",
     "text": [
      "10\n"
     ]
    }
   ],
   "source": [
    "i = 0\n",
    "while True:\n",
    "    i += 1\n",
    "    if i == 10:\n",
    "        break\n",
    "print(i)"
   ]
  },
  {
   "cell_type": "markdown",
   "metadata": {
    "hidden": true
   },
   "source": [
    "This code will `print 10`, because the loop stopped at 10 with the `break` command. This code could be in a less efficient `for` loop like this:"
   ]
  },
  {
   "cell_type": "code",
   "execution_count": 4,
   "metadata": {
    "hidden": true
   },
   "outputs": [
    {
     "name": "stdout",
     "output_type": "stream",
     "text": [
      "10\n"
     ]
    }
   ],
   "source": [
    "i = 0\n",
    "for j in range(0, 10):\n",
    "    i += 1\n",
    "print(i)"
   ]
  },
  {
   "cell_type": "markdown",
   "metadata": {
    "hidden": true
   },
   "source": [
    "This code will also `print 10`, but is as a whole less efficient than its latter counterpart. The reason for this will be explained in the next exercise."
   ]
  },
  {
   "cell_type": "markdown",
   "metadata": {
    "heading_collapsed": true,
    "hidden": true
   },
   "source": [
    "### Instructions"
   ]
  },
  {
   "cell_type": "markdown",
   "metadata": {
    "hidden": true
   },
   "source": [
    "Take the `for` loop in the editor and transform it to an infinite loop that accomplishes the same task more efficiently."
   ]
  },
  {
   "cell_type": "code",
   "execution_count": 27,
   "metadata": {
    "hidden": true
   },
   "outputs": [
    {
     "name": "stdout",
     "output_type": "stream",
     "text": [
      "0\n"
     ]
    }
   ],
   "source": [
    "i = 100\n",
    "for j in range(50, 150):\n",
    "    i -= 1\n",
    "print(i)"
   ]
  },
  {
   "cell_type": "code",
   "execution_count": 30,
   "metadata": {
    "hidden": true
   },
   "outputs": [
    {
     "name": "stdout",
     "output_type": "stream",
     "text": [
      "0\n"
     ]
    }
   ],
   "source": [
    "i = 100\n",
    "while True:\n",
    "    i -= 1\n",
    "    if i == 0:\n",
    "        break\n",
    "print(i)"
   ]
  },
  {
   "cell_type": "code",
   "execution_count": 31,
   "metadata": {
    "hidden": true
   },
   "outputs": [
    {
     "name": "stdout",
     "output_type": "stream",
     "text": [
      "0\n"
     ]
    }
   ],
   "source": [
    "# IMO, should be written like...\n",
    "i = 100\n",
    "while i > 0:\n",
    "    i -= 1\n",
    "print(i)"
   ]
  },
  {
   "cell_type": "markdown",
   "metadata": {
    "heading_collapsed": true,
    "hidden": true
   },
   "source": [
    "## [3. For Loops](https://www.codecademy.com/courses/python-intermediate-en-NYXmc/0/3)"
   ]
  },
  {
   "cell_type": "markdown",
   "metadata": {
    "hidden": true
   },
   "source": [
    "A tool that can easily be misused is the `for` loop. The reason it can be misused is how it works. A `for` loop uses the input of an array (or string, object, tuple), which it has to go through each element of, determine what the type of that element is, and then assign that to your incrementing variable. When you are inputting a **huge** array, this becomes overwhelming to the interpreter, and bogs down your program. An easy way to do this is with a `range()` command, just a few keystrokes, and you have an array with a million elements in it (`range(1, 1000001)`). When a `for` loop is working through this, it will have to determine the type of *every single element* in the array, even though they are all integers. The place you *should* use a `for` loop is where you have a relatively small array (1 - 100 elements), it will make it much easier for the code to work through. The larger loops can be replaced with infinite `while` loops easily, as seen in the previous exercise."
   ]
  },
  {
   "cell_type": "markdown",
   "metadata": {
    "heading_collapsed": true,
    "hidden": true
   },
   "source": [
    "### Instructions"
   ]
  },
  {
   "cell_type": "markdown",
   "metadata": {
    "hidden": true
   },
   "source": [
    "First, run this code, noticing its slow running speed. Then, change the loop so that it utilizes an infinite loop to accomplish the same task."
   ]
  },
  {
   "cell_type": "code",
   "execution_count": 32,
   "metadata": {
    "hidden": true
   },
   "outputs": [
    {
     "name": "stdout",
     "output_type": "stream",
     "text": [
      "1000000\n"
     ]
    }
   ],
   "source": [
    "j = 0\n",
    "for i in range(1, 1000001):\n",
    "    j += 1\n",
    "print(j)"
   ]
  },
  {
   "cell_type": "code",
   "execution_count": 39,
   "metadata": {
    "hidden": true
   },
   "outputs": [
    {
     "name": "stdout",
     "output_type": "stream",
     "text": [
      "1000000\n"
     ]
    }
   ],
   "source": [
    "i = 0\n",
    "while True:\n",
    "    i += 1\n",
    "    if i == 1000000:\n",
    "        break\n",
    "print(i)"
   ]
  },
  {
   "cell_type": "code",
   "execution_count": 40,
   "metadata": {
    "hidden": true
   },
   "outputs": [
    {
     "name": "stdout",
     "output_type": "stream",
     "text": [
      "1000000\n"
     ]
    }
   ],
   "source": [
    "# IMO, should be written like...\n",
    "i = 0\n",
    "while i < 1000000:\n",
    "    i += 1\n",
    "print(i)"
   ]
  },
  {
   "cell_type": "markdown",
   "metadata": {
    "heading_collapsed": true,
    "hidden": true
   },
   "source": [
    "## [4. Fabulous Functions](https://www.codecademy.com/courses/python-intermediate-en-NYXmc/0/4)"
   ]
  },
  {
   "cell_type": "markdown",
   "metadata": {
    "hidden": true
   },
   "source": [
    "The final key tool used in algorithms is that of functions. Functions, as you probably already know, are wonderful things able to be used to simplify code by saving frequently used code in a sample statement. Even though we know this, we commonly forget this, and when we do, it makes messy code, and it make it much, much less efficient.\n",
    "\n",
    "**The assignment for this exercise is to create the most efficient as possible** `isPrime()` **function, which takes one simple parameter,** `n`**, and outputs a boolean, either** `True` **or** `False`**.**\n",
    "\n",
    "This assignment will be up to you on how you do it, but I encourage you to look into [Trial Division](http://en.wikipedia.org/wiki/Prime#Trial_division), as it is a very efficient way of testing primes. Also, the most efficient way to this will include a single `for` loop, but make sure you don't make it too laborious on the interpreter!"
   ]
  },
  {
   "cell_type": "markdown",
   "metadata": {
    "heading_collapsed": true,
    "hidden": true
   },
   "source": [
    "### Instructions"
   ]
  },
  {
   "cell_type": "code",
   "execution_count": 100,
   "metadata": {
    "hidden": true
   },
   "outputs": [],
   "source": [
    "def isPrime(n):\n",
    "    if n == 2:\n",
    "        return True\n",
    "    elif n%2 == 0:\n",
    "        return False\n",
    "    elif min([n%i for i in range(2, round(n**0.5)+1)]) == 0:\n",
    "        return False\n",
    "    else:\n",
    "        return True"
   ]
  },
  {
   "cell_type": "code",
   "execution_count": 105,
   "metadata": {
    "hidden": true
   },
   "outputs": [
    {
     "name": "stdout",
     "output_type": "stream",
     "text": [
      "True\n",
      "False\n",
      "True\n"
     ]
    }
   ],
   "source": [
    "print(isPrime(3))\n",
    "print(isPrime(143))\n",
    "print(isPrime(790003))"
   ]
  },
  {
   "cell_type": "markdown",
   "metadata": {
    "heading_collapsed": true
   },
   "source": [
    "# Challenge #1"
   ]
  },
  {
   "cell_type": "markdown",
   "metadata": {
    "heading_collapsed": true,
    "hidden": true
   },
   "source": [
    "## [5. Fibonacci Fun](https://www.codecademy.com/courses/python-intermediate-en-NYXmc/1/1)"
   ]
  },
  {
   "cell_type": "markdown",
   "metadata": {
    "hidden": true
   },
   "source": [
    "This is one of [Project Euler](http://projecteuler.net/)'s wonderful problems, that is a great example for algorithmic efficiency. The instructions are as follows:\n",
    "\n",
    "***By considering the terms in the Fibonacci sequence whose values do not exceed four million, find the sum of the even valued terms.***\n",
    "\n",
    "This can easily be accomplished by creating a large array of Fibonacci sequential numbers and simply computing the sum of the even values, but that will be both slow and cumbersome. The challenge for this exercise is to create an algorithm that is neither of those."
   ]
  },
  {
   "cell_type": "markdown",
   "metadata": {
    "heading_collapsed": true,
    "hidden": true
   },
   "source": [
    "### Instructions"
   ]
  },
  {
   "cell_type": "markdown",
   "metadata": {
    "hidden": true
   },
   "source": [
    "Create an algorithm that solves the above problem, and then set the value of a variable `a` to your answer."
   ]
  },
  {
   "cell_type": "code",
   "execution_count": null,
   "metadata": {
    "hidden": true
   },
   "outputs": [],
   "source": []
  },
  {
   "cell_type": "markdown",
   "metadata": {
    "heading_collapsed": true
   },
   "source": [
    "# Challenge #2"
   ]
  },
  {
   "cell_type": "markdown",
   "metadata": {
    "heading_collapsed": true,
    "hidden": true
   },
   "source": [
    "## [6. Pythagorean Triplets](https://www.codecademy.com/en/courses/python-intermediate-en-NYXmc/2/1)"
   ]
  },
  {
   "cell_type": "markdown",
   "metadata": {
    "hidden": true
   },
   "source": [
    "This problem is another taken from [Project Euler](http://projecteuler.net/)'s wonderful library of algorithm practice. The instructions are as follow:\n",
    "\n",
    "***A Pythagorean triplet is a set of three natural numbers, a, b, c, for which***\n",
    "> `a^2 + b^2 = c^2`\n",
    "\n",
    "***For example,***\n",
    "> `3^2 + 4^2 = 9 + 16 = 25 = 5^2`\n",
    "\n",
    "***There exists exactly one Pythagorean triplet for which*** `a + b + c = 1000`***. Find the product*** `a*b*c`***.***\n",
    "\n",
    "Your algorithm will need to *quickly* search through all of these numbers, and come up with your answer."
   ]
  },
  {
   "cell_type": "markdown",
   "metadata": {
    "heading_collapsed": true,
    "hidden": true
   },
   "source": [
    "### Instructions"
   ]
  },
  {
   "cell_type": "markdown",
   "metadata": {
    "hidden": true
   },
   "source": [
    "As the instructions say above, find the product of `a*b*c`, and assign that value to variable `a`."
   ]
  },
  {
   "cell_type": "code",
   "execution_count": null,
   "metadata": {
    "hidden": true
   },
   "outputs": [],
   "source": []
  },
  {
   "cell_type": "markdown",
   "metadata": {
    "heading_collapsed": true
   },
   "source": [
    "# Challenge #3"
   ]
  },
  {
   "cell_type": "markdown",
   "metadata": {
    "heading_collapsed": true,
    "hidden": true
   },
   "source": [
    "## [7. Palindromic Pleasure](https://www.codecademy.com/en/courses/python-intermediate-en-NYXmc/3/1)"
   ]
  },
  {
   "cell_type": "markdown",
   "metadata": {
    "hidden": true
   },
   "source": [
    "A palindromic number is any (real) number that is able to have its digits reversed, and it stay the same number. For example, `11` is a palindrome because if you reverse its digits, it is still `11`. `92729` is another example, if you reverse the digits, it is still `92729`. Here is the problem:\n",
    "\n",
    "**What is the *only* (double-digit, or above) Prime number that is palindromic in both base-2 (binary) and base-10 (decimal) instances?**\n",
    "\n",
    "This problem will be very trick as it will require the ability to find both palindromes, and prime numbers (don't forget the function we built earlier) at the same time. Don't give up here, you have come so far."
   ]
  },
  {
   "cell_type": "markdown",
   "metadata": {
    "heading_collapsed": true,
    "hidden": true
   },
   "source": [
    "### Instructions"
   ]
  },
  {
   "cell_type": "markdown",
   "metadata": {
    "hidden": true
   },
   "source": [
    "As always, find the number described above, and assign it as the value to the variable `a`."
   ]
  },
  {
   "cell_type": "code",
   "execution_count": null,
   "metadata": {
    "hidden": true
   },
   "outputs": [],
   "source": []
  }
 ],
 "metadata": {
  "kernelspec": {
   "display_name": "Python [default]",
   "language": "python",
   "name": "python3"
  },
  "language_info": {
   "codemirror_mode": {
    "name": "ipython",
    "version": 3
   },
   "file_extension": ".py",
   "mimetype": "text/x-python",
   "name": "python",
   "nbconvert_exporter": "python",
   "pygments_lexer": "ipython3",
   "version": "3.5.5"
  },
  "varInspector": {
   "cols": {
    "lenName": 16,
    "lenType": 16,
    "lenVar": 40
   },
   "kernels_config": {
    "python": {
     "delete_cmd_postfix": "",
     "delete_cmd_prefix": "del ",
     "library": "var_list.py",
     "varRefreshCmd": "print(var_dic_list())"
    },
    "r": {
     "delete_cmd_postfix": ") ",
     "delete_cmd_prefix": "rm(",
     "library": "var_list.r",
     "varRefreshCmd": "cat(var_dic_list()) "
    }
   },
   "types_to_exclude": [
    "module",
    "function",
    "builtin_function_or_method",
    "instance",
    "_Feature"
   ],
   "window_display": false
  }
 },
 "nbformat": 4,
 "nbformat_minor": 2
}
